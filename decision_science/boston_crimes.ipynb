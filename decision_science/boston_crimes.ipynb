{
 "cells": [
  {
   "cell_type": "markdown",
   "metadata": {},
   "source": [
    "\n",
    "# Advisory mission for the Boston municipal authorities\n",
    "\n",
    "\n",
    "![title](assets/boston_logo.png)"
   ]
  },
  {
   "cell_type": "markdown",
   "metadata": {},
   "source": [
    "Welcome to the Decision Science exercise of your data certification exam!\n",
    "\n",
    "Here are a few words to describe how the `decision_science` directory is organised:"
   ]
  },
  {
   "cell_type": "code",
   "execution_count": 1,
   "metadata": {
    "ExecuteTime": {
     "end_time": "2021-06-29T15:49:35.780617Z",
     "start_time": "2021-06-29T15:49:35.637986Z"
    }
   },
   "outputs": [
    {
     "name": "stdout",
     "output_type": "stream",
     "text": [
      "\u001b[01;34m.\u001b[00m\r\n",
      "├── Boston\\ CRIME\\ INCIDENTS\\ REPORTS\\ BY\\ Police\\ District.pdf\r\n",
      "├── README.md\r\n",
      "├── \u001b[01;34m__pycache__\u001b[00m\r\n",
      "│   └── data.cpython-38.pyc\r\n",
      "├── boston_crimes.ipynb\r\n",
      "├── \u001b[01;34mdata\u001b[00m\r\n",
      "│   ├── districts.csv\r\n",
      "│   └── incident_reports.csv\r\n",
      "├── data.py\r\n",
      "├── \u001b[01;34mdb\u001b[00m\r\n",
      "│   ├── boston_crimes.sqlite\r\n",
      "│   └── boston_crimes.xml\r\n",
      "└── \u001b[01;34mtests\u001b[00m\r\n",
      "    ├── answers_inference.json\r\n",
      "    ├── linear_regression_analysis.pickle\r\n",
      "    ├── linear_regression_model.pickle\r\n",
      "    ├── manipulation.pickle\r\n",
      "    └── sql.pickle\r\n",
      "\r\n",
      "4 directories, 14 files\r\n"
     ]
    }
   ],
   "source": [
    "# Start by running this cell to see the architecture of the directory\n",
    "!tree"
   ]
  },
  {
   "cell_type": "markdown",
   "metadata": {},
   "source": [
    "- the `boston_crimes.ipynb` notebook that you currently have under your eyes is the main document. You will find all the instructions here and except when it is explicitly specified, you should provide all your answers in this notebook;\n",
    "\n",
    "\n",
    "- the `data` and `db` folders will be filled-in throughout the exercise respectively with `.csv` datasets and a `.sqlite` file, for you to run all your analyses; \n",
    "\n",
    "\n",
    "- you will not have to interact with the `assets` folder for this exercise;\n",
    "\n",
    "\n",
    "- the `tests` folder will contain all the `.pickle` files that will be saved throughout the exercise with your key findings. Please run all the \"Save your results\" cells when completing the exercise!"
   ]
  },
  {
   "cell_type": "markdown",
   "metadata": {},
   "source": [
    "⚠️ **Important remark** before you dive into the exercise. This notebook is quite long and it is easy to get lost in it: take full advantage of the collapsible headers and of the table of content. If you have not yet activated these Jupyter Notebook extensions, you may consider doing so now!"
   ]
  },
  {
   "cell_type": "markdown",
   "metadata": {},
   "source": [
    "# Imports"
   ]
  },
  {
   "cell_type": "markdown",
   "metadata": {},
   "source": [
    "You can use this section to run your imports in a centralised manner throughout the exercise."
   ]
  },
  {
   "cell_type": "code",
   "execution_count": 342,
   "metadata": {
    "ExecuteTime": {
     "end_time": "2021-06-29T15:27:05.512753Z",
     "start_time": "2021-06-29T15:27:05.494673Z"
    }
   },
   "outputs": [],
   "source": [
    "# Load the nbresult package to be able to save your results \n",
    "from nbresult import ChallengeResult"
   ]
  },
  {
   "cell_type": "code",
   "execution_count": 343,
   "metadata": {
    "ExecuteTime": {
     "end_time": "2021-06-29T15:27:06.869244Z",
     "start_time": "2021-06-29T15:27:06.862958Z"
    }
   },
   "outputs": [],
   "source": [
    "# Useful import for data collection\n",
    "import sqlite3"
   ]
  },
  {
   "cell_type": "code",
   "execution_count": 344,
   "metadata": {
    "ExecuteTime": {
     "end_time": "2021-06-29T15:27:09.308468Z",
     "start_time": "2021-06-29T15:27:09.297507Z"
    }
   },
   "outputs": [],
   "source": [
    "# Useful imports for data manipulation and analysis\n",
    "import numpy as np\n",
    "import pandas as pd"
   ]
  },
  {
   "cell_type": "code",
   "execution_count": 345,
   "metadata": {
    "ExecuteTime": {
     "end_time": "2021-06-29T15:27:10.789988Z",
     "start_time": "2021-06-29T15:27:10.778459Z"
    }
   },
   "outputs": [],
   "source": [
    "# Useful imports for data visualisation\n",
    "import matplotlib.pyplot as plt\n",
    "import seaborn as sns"
   ]
  },
  {
   "cell_type": "code",
   "execution_count": 346,
   "metadata": {
    "ExecuteTime": {
     "end_time": "2021-06-29T15:27:13.963557Z",
     "start_time": "2021-06-29T15:27:13.947619Z"
    }
   },
   "outputs": [],
   "source": [
    "# Useful imports to estimate regression models\n",
    "import statsmodels.formula.api as smf"
   ]
  },
  {
   "cell_type": "markdown",
   "metadata": {},
   "source": [
    "# 1. Analysis for the mayor's team"
   ]
  },
  {
   "cell_type": "markdown",
   "metadata": {},
   "source": [
    "During the last municipal campaign in Boston, criminality has been a major topic of debates. As citizens have expressed strong expectations from her on that front, the newly-elected mayor of Boston is looking for data-based insights on criminality in the Massachussetts capital. She has mandated your economics and urbanism consulting firm, *The Locomotive*, for this study."
   ]
  },
  {
   "cell_type": "markdown",
   "metadata": {},
   "source": [
    "## 1.1 Load the database"
   ]
  },
  {
   "cell_type": "markdown",
   "metadata": {},
   "source": [
    "Download the `boston_crimes.sqlite` database from this [URL](https://wagon-public-datasets.s3.amazonaws.com/certification_france_2021_q2/boston_crimes.sqlite) and store it inside the `db` folder."
   ]
  },
  {
   "cell_type": "code",
   "execution_count": 7,
   "metadata": {
    "ExecuteTime": {
     "end_time": "2021-06-29T07:19:37.271889Z",
     "start_time": "2021-06-29T07:19:36.176132Z"
    }
   },
   "outputs": [
    {
     "name": "stdout",
     "output_type": "stream",
     "text": [
      "  % Total    % Received % Xferd  Average Speed   Time    Time     Time  Current\n",
      "                                 Dload  Upload   Total   Spent    Left  Speed\n",
      "100 19.1M  100 19.1M    0     0  20.9M      0 --:--:-- --:--:-- --:--:-- 20.9M\n"
     ]
    }
   ],
   "source": [
    "# You may directly run this cell to do so\n",
    "!curl https://wagon-public-datasets.s3.amazonaws.com/certification_france_2021_q2/boston_crimes.sqlite > db/boston_crimes.sqlite"
   ]
  },
  {
   "cell_type": "markdown",
   "metadata": {},
   "source": [
    "## 1.2 Familiarize yourself with the database"
   ]
  },
  {
   "cell_type": "markdown",
   "metadata": {},
   "source": [
    "This section aims at giving you a first overview of the database. \n",
    "\n",
    "As you will see, it consists in three tables: \n",
    "\n",
    "- the `incident_reports` table has been provided by the Police Department of Boston. Each observation corresponds to a criminal incident that has required an intervention by the police in the municipality of Boston;  \n",
    "\n",
    "\n",
    "\n",
    "- the `districts` table has been provided by the Urbanism Department of Boston. It gathers geographical information about the various police districts of Boston;  \n",
    "\n",
    "\n",
    "\n",
    "- and the `indicators` table has been shared by the Economics Department of Boston, which keeps track of various indicators of the social and economic activity of Boston neighborhoods. Each observation corresponds to a police district.\n",
    "\n",
    "More information about the different fields of these three tables can be found in the dedicated `README.md` file"
   ]
  },
  {
   "cell_type": "markdown",
   "metadata": {},
   "source": [
    "### Connect to the database"
   ]
  },
  {
   "cell_type": "markdown",
   "metadata": {},
   "source": [
    "**🔍 Using your preferred SQL client, connect to the database and browse through it as you wish to get acquainted with the data.**"
   ]
  },
  {
   "cell_type": "markdown",
   "metadata": {},
   "source": [
    "### Draw a schema of the database"
   ]
  },
  {
   "cell_type": "markdown",
   "metadata": {},
   "source": [
    "**📝 Draw the database schema thanks to the [schema editor](https://kitt.lewagon.com/db) on Kitt.**"
   ]
  },
  {
   "cell_type": "markdown",
   "metadata": {},
   "source": [
    "**📝 Download the schema and save it as `boston_crimes.xml` in the `db` folder.**"
   ]
  },
  {
   "cell_type": "markdown",
   "metadata": {},
   "source": [
    "## 1.3 Extract the relevant dataset"
   ]
  },
  {
   "cell_type": "markdown",
   "metadata": {},
   "source": [
    "Now that you have a good overview of the database, you can kick off the work! You will start with an SQL query to gather the relevant information."
   ]
  },
  {
   "cell_type": "markdown",
   "metadata": {},
   "source": [
    "### Build the dataset"
   ]
  },
  {
   "cell_type": "markdown",
   "metadata": {},
   "source": [
    "We want to investigate the influence of the socio-economic characteristics of Boston's different districts on the number of crime reports and incidents. To do so, we need to extract the relevant dataset. **Each row should correspond to one of the 12 police districts of Boston** (as listed in the `districts` table of the database).\n",
    "\n",
    "To identify the district, we will need **the following columns**: \n",
    "\n",
    "- the `CODE` of the police district (1 letter and 1 or 2 numbers);\n",
    "- the full `NAME` of the police district.\n",
    "\n",
    "Additionally, you will need to **create an additional field** (which will serve as dependent variable in future regressions): `NB_INCIDENTS`, i.e. the total number of incidents reported in the police district over the period covered by the data at hand (2015-2019).\n",
    "\n",
    "Eventually, we want the dataset to **include several socio-economic indicators**:\n",
    "\n",
    "- `MEDIAN_AGE`;\n",
    "- `TOTAL_POP`;\n",
    "- `PERC_OF_30_34`;\n",
    "- `PERC_MARRIED_COUPLE_FAMILY`;\n",
    "- `PER_CAPITA_INCOME`;\n",
    "- `PERC_OTHER_STATE_OR_ABROAD`;\n",
    "- `PERC_LESS_THAN_HIGH_SCHOOL`;\n",
    "- `PERC_COLLEGE_GRADUATES`. \n",
    "\n",
    "Overall, your dataset should comprise 12 rows and 11 columns.\n",
    "\n",
    "Eventually, note that **the resulting DataFrame must be ordered by the number of incidents**, from the largest to the smallest total."
   ]
  },
  {
   "cell_type": "markdown",
   "metadata": {},
   "source": [
    "**📝 Write the SQL query you need to fetch the data. Save it as a `str` in the `query` variable.**"
   ]
  },
  {
   "cell_type": "code",
   "execution_count": 12,
   "metadata": {
    "ExecuteTime": {
     "end_time": "2021-06-29T08:22:05.123221Z",
     "start_time": "2021-06-29T08:22:05.119442Z"
    }
   },
   "outputs": [],
   "source": [
    "conn = sqlite3.connect('db/boston_crimes.sqlite')\n",
    "c = conn.cursor()"
   ]
  },
  {
   "cell_type": "code",
   "execution_count": 347,
   "metadata": {
    "ExecuteTime": {
     "end_time": "2021-06-29T15:27:22.631137Z",
     "start_time": "2021-06-29T15:27:22.614594Z"
    }
   },
   "outputs": [],
   "source": [
    "query = \"\"\"\n",
    "SELECT DISTINCT nb.CODE,\n",
    "                NAME,\n",
    "                MEDIAN_AGE, \n",
    "                TOTAL_POP, \n",
    "                PERC_OF_30_34, \n",
    "                PERC_MARRIED_COUPLE_FAMILY, \n",
    "                PER_CAPITA_INCOME, \n",
    "                PERC_OTHER_STATE_OR_ABROAD, \n",
    "                PERC_LESS_THAN_HIGH_SCHOOL, \n",
    "                PERC_COLLEGE_GRADUATES,\n",
    "                NB_INCIDENTS\n",
    "FROM\n",
    "(SELECT DISTINCT *,\n",
    "    COUNT(INCIDENT_NUMBER) OVER (PARTITION BY d.CODE) AS NB_INCIDENTS\n",
    "FROM districts d\n",
    "     LEFT JOIN  incident_reports ic on d.CODE = ic.DISTRICT\n",
    "     LEFT JOIN indicators i on ic.DISTRICT = i.CODE) as nb\n",
    "\"\"\""
   ]
  },
  {
   "cell_type": "markdown",
   "metadata": {},
   "source": [
    "**📝 Store the output of the query in a `DataFrame` named `crimes_df`. Display the 5 first rows, as well as the shape of the dataset.**"
   ]
  },
  {
   "cell_type": "code",
   "execution_count": 348,
   "metadata": {
    "ExecuteTime": {
     "end_time": "2021-06-29T15:27:27.357598Z",
     "start_time": "2021-06-29T15:27:24.776889Z"
    },
    "tags": [
     "challengify"
    ]
   },
   "outputs": [
    {
     "data": {
      "text/html": [
       "<div>\n",
       "<style scoped>\n",
       "    .dataframe tbody tr th:only-of-type {\n",
       "        vertical-align: middle;\n",
       "    }\n",
       "\n",
       "    .dataframe tbody tr th {\n",
       "        vertical-align: top;\n",
       "    }\n",
       "\n",
       "    .dataframe thead th {\n",
       "        text-align: right;\n",
       "    }\n",
       "</style>\n",
       "<table border=\"1\" class=\"dataframe\">\n",
       "  <thead>\n",
       "    <tr style=\"text-align: right;\">\n",
       "      <th></th>\n",
       "      <th>CODE</th>\n",
       "      <th>NAME</th>\n",
       "      <th>MEDIAN_AGE</th>\n",
       "      <th>TOTAL_POP</th>\n",
       "      <th>PERC_OF_30_34</th>\n",
       "      <th>PERC_MARRIED_COUPLE_FAMILY</th>\n",
       "      <th>PER_CAPITA_INCOME</th>\n",
       "      <th>PERC_OTHER_STATE_OR_ABROAD</th>\n",
       "      <th>PERC_LESS_THAN_HIGH_SCHOOL</th>\n",
       "      <th>PERC_COLLEGE_GRADUATES</th>\n",
       "      <th>NB_INCIDENTS</th>\n",
       "    </tr>\n",
       "  </thead>\n",
       "  <tbody>\n",
       "    <tr>\n",
       "      <th>0</th>\n",
       "      <td>A1</td>\n",
       "      <td>Downtown</td>\n",
       "      <td>33.5</td>\n",
       "      <td>18306</td>\n",
       "      <td>32.5</td>\n",
       "      <td>35.8</td>\n",
       "      <td>80057</td>\n",
       "      <td>14.8</td>\n",
       "      <td>15.4</td>\n",
       "      <td>6.9</td>\n",
       "      <td>26260</td>\n",
       "    </tr>\n",
       "    <tr>\n",
       "      <th>1</th>\n",
       "      <td>A15</td>\n",
       "      <td>Charlestown</td>\n",
       "      <td>35.7</td>\n",
       "      <td>19890</td>\n",
       "      <td>28.2</td>\n",
       "      <td>36.4</td>\n",
       "      <td>75339</td>\n",
       "      <td>3.4</td>\n",
       "      <td>7.9</td>\n",
       "      <td>8.2</td>\n",
       "      <td>4765</td>\n",
       "    </tr>\n",
       "    <tr>\n",
       "      <th>2</th>\n",
       "      <td>A7</td>\n",
       "      <td>East Boston</td>\n",
       "      <td>30.6</td>\n",
       "      <td>47263</td>\n",
       "      <td>31.1</td>\n",
       "      <td>30.4</td>\n",
       "      <td>31473</td>\n",
       "      <td>3.5</td>\n",
       "      <td>27.2</td>\n",
       "      <td>11.5</td>\n",
       "      <td>9691</td>\n",
       "    </tr>\n",
       "    <tr>\n",
       "      <th>3</th>\n",
       "      <td>B2</td>\n",
       "      <td>Roxbury</td>\n",
       "      <td>32.5</td>\n",
       "      <td>54161</td>\n",
       "      <td>27.8</td>\n",
       "      <td>17.8</td>\n",
       "      <td>20978</td>\n",
       "      <td>2.9</td>\n",
       "      <td>23.0</td>\n",
       "      <td>18.9</td>\n",
       "      <td>38877</td>\n",
       "    </tr>\n",
       "    <tr>\n",
       "      <th>4</th>\n",
       "      <td>B3</td>\n",
       "      <td>Mattapan</td>\n",
       "      <td>36.7</td>\n",
       "      <td>26659</td>\n",
       "      <td>20.9</td>\n",
       "      <td>29.8</td>\n",
       "      <td>28356</td>\n",
       "      <td>2.3</td>\n",
       "      <td>14.5</td>\n",
       "      <td>22.9</td>\n",
       "      <td>28331</td>\n",
       "    </tr>\n",
       "  </tbody>\n",
       "</table>\n",
       "</div>"
      ],
      "text/plain": [
       "  CODE         NAME  MEDIAN_AGE  TOTAL_POP  PERC_OF_30_34  \\\n",
       "0   A1     Downtown        33.5      18306           32.5   \n",
       "1  A15  Charlestown        35.7      19890           28.2   \n",
       "2   A7  East Boston        30.6      47263           31.1   \n",
       "3   B2      Roxbury        32.5      54161           27.8   \n",
       "4   B3     Mattapan        36.7      26659           20.9   \n",
       "\n",
       "   PERC_MARRIED_COUPLE_FAMILY  PER_CAPITA_INCOME  PERC_OTHER_STATE_OR_ABROAD  \\\n",
       "0                        35.8              80057                        14.8   \n",
       "1                        36.4              75339                         3.4   \n",
       "2                        30.4              31473                         3.5   \n",
       "3                        17.8              20978                         2.9   \n",
       "4                        29.8              28356                         2.3   \n",
       "\n",
       "   PERC_LESS_THAN_HIGH_SCHOOL  PERC_COLLEGE_GRADUATES  NB_INCIDENTS  \n",
       "0                        15.4                     6.9         26260  \n",
       "1                         7.9                     8.2          4765  \n",
       "2                        27.2                    11.5          9691  \n",
       "3                        23.0                    18.9         38877  \n",
       "4                        14.5                    22.9         28331  "
      ]
     },
     "execution_count": 348,
     "metadata": {},
     "output_type": "execute_result"
    }
   ],
   "source": [
    "# YOUR CODE HERE\n",
    "crimes_df = pd.read_sql_query(f\"{query}\", conn)\n",
    "crimes_df.head(5)"
   ]
  },
  {
   "cell_type": "code",
   "execution_count": 349,
   "metadata": {
    "ExecuteTime": {
     "end_time": "2021-06-29T15:27:30.127322Z",
     "start_time": "2021-06-29T15:27:30.114486Z"
    }
   },
   "outputs": [
    {
     "data": {
      "text/plain": [
       "(12, 11)"
      ]
     },
     "execution_count": 349,
     "metadata": {},
     "output_type": "execute_result"
    }
   ],
   "source": [
    "crimes_df.shape"
   ]
  },
  {
   "cell_type": "markdown",
   "metadata": {},
   "source": [
    "### Save your results"
   ]
  },
  {
   "cell_type": "markdown",
   "metadata": {},
   "source": [
    "You can run the following cell to save your results:"
   ]
  },
  {
   "cell_type": "code",
   "execution_count": 350,
   "metadata": {
    "ExecuteTime": {
     "end_time": "2021-06-29T15:27:32.802580Z",
     "start_time": "2021-06-29T15:27:32.781161Z"
    }
   },
   "outputs": [],
   "source": [
    "ChallengeResult('sql', query=query, data=crimes_df).write()"
   ]
  },
  {
   "cell_type": "markdown",
   "metadata": {},
   "source": [
    "## 1.4 Linear regression - The socio-economic determinants of criminality\n",
    "\n",
    "As mentioned above, we want to investigate the impact of the socio-economic characteristics of the different Boston police districts on the number of incidents that are reported in these areas. \n",
    "- We are going to use the number of incidents as dependent variable \n",
    "- our regressors will be the various socio-economic indicators extracted from the database."
   ]
  },
  {
   "cell_type": "markdown",
   "metadata": {},
   "source": [
    "### 1.4.1 Start from a fresh dataset\n",
    "\n",
    "To make sure that you are using the right data, you can load a fresh dataset from this [URL](https://wagon-public-datasets.s3.amazonaws.com/certification_france_2021_q2/regression.csv).\n",
    "\n",
    "**📝 Load the data into a DataFrame named `data`**"
   ]
  },
  {
   "cell_type": "code",
   "execution_count": 351,
   "metadata": {
    "ExecuteTime": {
     "end_time": "2021-06-29T15:27:42.134899Z",
     "start_time": "2021-06-29T15:27:41.833328Z"
    },
    "tags": [
     "challengify"
    ]
   },
   "outputs": [
    {
     "data": {
      "text/html": [
       "<div>\n",
       "<style scoped>\n",
       "    .dataframe tbody tr th:only-of-type {\n",
       "        vertical-align: middle;\n",
       "    }\n",
       "\n",
       "    .dataframe tbody tr th {\n",
       "        vertical-align: top;\n",
       "    }\n",
       "\n",
       "    .dataframe thead th {\n",
       "        text-align: right;\n",
       "    }\n",
       "</style>\n",
       "<table border=\"1\" class=\"dataframe\">\n",
       "  <thead>\n",
       "    <tr style=\"text-align: right;\">\n",
       "      <th></th>\n",
       "      <th>MEDIAN_AGE</th>\n",
       "      <th>TOTAL_POP</th>\n",
       "      <th>PERC_OF_30_34</th>\n",
       "      <th>PERC_MARRIED_COUPLE_FAMILY</th>\n",
       "      <th>PER_CAPITA_INCOME</th>\n",
       "      <th>PERC_OTHER_STATE_OR_ABROAD</th>\n",
       "      <th>PERC_LESS_THAN_HIGH_SCHOOL</th>\n",
       "      <th>PERC_COLLEGE_GRADUATES</th>\n",
       "      <th>CODE</th>\n",
       "      <th>NB_INCIDENTS</th>\n",
       "      <th>NAME</th>\n",
       "    </tr>\n",
       "  </thead>\n",
       "  <tbody>\n",
       "    <tr>\n",
       "      <th>3</th>\n",
       "      <td>33.5</td>\n",
       "      <td>18306</td>\n",
       "      <td>32.5</td>\n",
       "      <td>35.8</td>\n",
       "      <td>80057</td>\n",
       "      <td>14.8</td>\n",
       "      <td>15.4</td>\n",
       "      <td>6.9</td>\n",
       "      <td>A1</td>\n",
       "      <td>26260</td>\n",
       "      <td>Downtown</td>\n",
       "    </tr>\n",
       "    <tr>\n",
       "      <th>1</th>\n",
       "      <td>35.7</td>\n",
       "      <td>19890</td>\n",
       "      <td>28.2</td>\n",
       "      <td>36.4</td>\n",
       "      <td>75339</td>\n",
       "      <td>3.4</td>\n",
       "      <td>7.9</td>\n",
       "      <td>8.2</td>\n",
       "      <td>A15</td>\n",
       "      <td>4765</td>\n",
       "      <td>Charlestown</td>\n",
       "    </tr>\n",
       "    <tr>\n",
       "      <th>4</th>\n",
       "      <td>30.6</td>\n",
       "      <td>47263</td>\n",
       "      <td>31.1</td>\n",
       "      <td>30.4</td>\n",
       "      <td>31473</td>\n",
       "      <td>3.5</td>\n",
       "      <td>27.2</td>\n",
       "      <td>11.5</td>\n",
       "      <td>A7</td>\n",
       "      <td>9691</td>\n",
       "      <td>East Boston</td>\n",
       "    </tr>\n",
       "    <tr>\n",
       "      <th>8</th>\n",
       "      <td>32.5</td>\n",
       "      <td>54161</td>\n",
       "      <td>27.8</td>\n",
       "      <td>17.8</td>\n",
       "      <td>20978</td>\n",
       "      <td>2.9</td>\n",
       "      <td>23.0</td>\n",
       "      <td>18.9</td>\n",
       "      <td>B2</td>\n",
       "      <td>38877</td>\n",
       "      <td>Roxbury</td>\n",
       "    </tr>\n",
       "    <tr>\n",
       "      <th>7</th>\n",
       "      <td>36.7</td>\n",
       "      <td>26659</td>\n",
       "      <td>20.9</td>\n",
       "      <td>29.8</td>\n",
       "      <td>28356</td>\n",
       "      <td>2.3</td>\n",
       "      <td>14.5</td>\n",
       "      <td>22.9</td>\n",
       "      <td>B3</td>\n",
       "      <td>28331</td>\n",
       "      <td>Mattapan</td>\n",
       "    </tr>\n",
       "    <tr>\n",
       "      <th>2</th>\n",
       "      <td>33.4</td>\n",
       "      <td>126909</td>\n",
       "      <td>28.2</td>\n",
       "      <td>26.6</td>\n",
       "      <td>29767</td>\n",
       "      <td>2.4</td>\n",
       "      <td>18.0</td>\n",
       "      <td>17.1</td>\n",
       "      <td>C11</td>\n",
       "      <td>32875</td>\n",
       "      <td>Dorchester</td>\n",
       "    </tr>\n",
       "    <tr>\n",
       "      <th>9</th>\n",
       "      <td>31.9</td>\n",
       "      <td>36772</td>\n",
       "      <td>46.1</td>\n",
       "      <td>24.7</td>\n",
       "      <td>64745</td>\n",
       "      <td>2.4</td>\n",
       "      <td>7.9</td>\n",
       "      <td>8.4</td>\n",
       "      <td>C6</td>\n",
       "      <td>16617</td>\n",
       "      <td>South Boston</td>\n",
       "    </tr>\n",
       "    <tr>\n",
       "      <th>0</th>\n",
       "      <td>30.8</td>\n",
       "      <td>55297</td>\n",
       "      <td>52.8</td>\n",
       "      <td>26.4</td>\n",
       "      <td>41261</td>\n",
       "      <td>8.6</td>\n",
       "      <td>6.7</td>\n",
       "      <td>10.5</td>\n",
       "      <td>D14</td>\n",
       "      <td>13788</td>\n",
       "      <td>Brighton</td>\n",
       "    </tr>\n",
       "    <tr>\n",
       "      <th>10</th>\n",
       "      <td>37.1</td>\n",
       "      <td>32571</td>\n",
       "      <td>33.9</td>\n",
       "      <td>28.3</td>\n",
       "      <td>83609</td>\n",
       "      <td>6.2</td>\n",
       "      <td>11.8</td>\n",
       "      <td>8.5</td>\n",
       "      <td>D4</td>\n",
       "      <td>31258</td>\n",
       "      <td>South End</td>\n",
       "    </tr>\n",
       "    <tr>\n",
       "      <th>6</th>\n",
       "      <td>34.8</td>\n",
       "      <td>40867</td>\n",
       "      <td>32.5</td>\n",
       "      <td>33.7</td>\n",
       "      <td>51655</td>\n",
       "      <td>5.5</td>\n",
       "      <td>8.0</td>\n",
       "      <td>12.1</td>\n",
       "      <td>E13</td>\n",
       "      <td>12802</td>\n",
       "      <td>Jamaica Plain</td>\n",
       "    </tr>\n",
       "    <tr>\n",
       "      <th>5</th>\n",
       "      <td>39.4</td>\n",
       "      <td>38924</td>\n",
       "      <td>21.1</td>\n",
       "      <td>38.4</td>\n",
       "      <td>32744</td>\n",
       "      <td>1.9</td>\n",
       "      <td>13.8</td>\n",
       "      <td>21.3</td>\n",
       "      <td>E18</td>\n",
       "      <td>12551</td>\n",
       "      <td>Hyde Park</td>\n",
       "    </tr>\n",
       "    <tr>\n",
       "      <th>11</th>\n",
       "      <td>42.8</td>\n",
       "      <td>33526</td>\n",
       "      <td>18.1</td>\n",
       "      <td>46.2</td>\n",
       "      <td>47836</td>\n",
       "      <td>1.9</td>\n",
       "      <td>6.5</td>\n",
       "      <td>13.2</td>\n",
       "      <td>E5</td>\n",
       "      <td>9406</td>\n",
       "      <td>West Roxbury</td>\n",
       "    </tr>\n",
       "  </tbody>\n",
       "</table>\n",
       "</div>"
      ],
      "text/plain": [
       "    MEDIAN_AGE  TOTAL_POP  PERC_OF_30_34  PERC_MARRIED_COUPLE_FAMILY  \\\n",
       "3         33.5      18306           32.5                        35.8   \n",
       "1         35.7      19890           28.2                        36.4   \n",
       "4         30.6      47263           31.1                        30.4   \n",
       "8         32.5      54161           27.8                        17.8   \n",
       "7         36.7      26659           20.9                        29.8   \n",
       "2         33.4     126909           28.2                        26.6   \n",
       "9         31.9      36772           46.1                        24.7   \n",
       "0         30.8      55297           52.8                        26.4   \n",
       "10        37.1      32571           33.9                        28.3   \n",
       "6         34.8      40867           32.5                        33.7   \n",
       "5         39.4      38924           21.1                        38.4   \n",
       "11        42.8      33526           18.1                        46.2   \n",
       "\n",
       "    PER_CAPITA_INCOME  PERC_OTHER_STATE_OR_ABROAD  PERC_LESS_THAN_HIGH_SCHOOL  \\\n",
       "3               80057                        14.8                        15.4   \n",
       "1               75339                         3.4                         7.9   \n",
       "4               31473                         3.5                        27.2   \n",
       "8               20978                         2.9                        23.0   \n",
       "7               28356                         2.3                        14.5   \n",
       "2               29767                         2.4                        18.0   \n",
       "9               64745                         2.4                         7.9   \n",
       "0               41261                         8.6                         6.7   \n",
       "10              83609                         6.2                        11.8   \n",
       "6               51655                         5.5                         8.0   \n",
       "5               32744                         1.9                        13.8   \n",
       "11              47836                         1.9                         6.5   \n",
       "\n",
       "    PERC_COLLEGE_GRADUATES CODE  NB_INCIDENTS           NAME  \n",
       "3                      6.9   A1         26260       Downtown  \n",
       "1                      8.2  A15          4765    Charlestown  \n",
       "4                     11.5   A7          9691    East Boston  \n",
       "8                     18.9   B2         38877        Roxbury  \n",
       "7                     22.9   B3         28331       Mattapan  \n",
       "2                     17.1  C11         32875     Dorchester  \n",
       "9                      8.4   C6         16617   South Boston  \n",
       "0                     10.5  D14         13788       Brighton  \n",
       "10                     8.5   D4         31258      South End  \n",
       "6                     12.1  E13         12802  Jamaica Plain  \n",
       "5                     21.3  E18         12551      Hyde Park  \n",
       "11                    13.2   E5          9406   West Roxbury  "
      ]
     },
     "execution_count": 351,
     "metadata": {},
     "output_type": "execute_result"
    }
   ],
   "source": [
    "# YOUR CODE HERE\n",
    "data = pd.read_csv('https://wagon-public-datasets.s3.amazonaws.com/certification_france_2021_q2/boston_crimes_regression.csv')\n",
    "data.sort_values(by='CODE')"
   ]
  },
  {
   "cell_type": "markdown",
   "metadata": {},
   "source": [
    "### 1.4.2 Run the regression and output its summary"
   ]
  },
  {
   "cell_type": "markdown",
   "metadata": {},
   "source": [
    "Thanks to the Statsmodels Formula API, we will run the regression described below. \n",
    "\n",
    "The dependent variable (or target variable) should be **the total number of incidents** reported in each police district.\n",
    "\n",
    "We will focus on the following regressors: \n",
    "\n",
    "- the **median age** in the district, whose effect is difficult to anticipate on the number of crimes;\n",
    " \n",
    " \n",
    "- the **percentage of 30-34 years old** in the district, whose effect is also unclear a priori;\n",
    " \n",
    " \n",
    "- the **share of families with a married couple** among all households, which could be anticipated to have a negative effect on criminality (more attention to safety among residents...);\n",
    " \n",
    " \n",
    "- the **percentage of residents having moved from abroad or from another US state over the last year**, mobility being often associated with social marginalisation and possibly with a higher risk of resorting to illegal activities;\n",
    " \n",
    " \n",
    "- the **percentage of residents having stopped their studies before getting a high school degree**. Economic models would suggest that due to the more narrow job opportunities to which this group has access, the incentive is stronger to resort to illicit activities;\n",
    " \n",
    " \n",
    "- the **percentage of college graduates** in the district, which we would expect to have an opposite effect.\n",
    " \n",
    "**📝 Based on these indications, estimate the linear regression model and output its summary in this section of the notebook. Store the estimated model inside a `model` variable.**"
   ]
  },
  {
   "cell_type": "code",
   "execution_count": 352,
   "metadata": {
    "ExecuteTime": {
     "end_time": "2021-06-29T15:27:47.275966Z",
     "start_time": "2021-06-29T15:27:47.264875Z"
    }
   },
   "outputs": [
    {
     "data": {
      "text/plain": [
       "Index(['MEDIAN_AGE', 'TOTAL_POP', 'PERC_OF_30_34',\n",
       "       'PERC_MARRIED_COUPLE_FAMILY', 'PER_CAPITA_INCOME',\n",
       "       'PERC_OTHER_STATE_OR_ABROAD', 'PERC_LESS_THAN_HIGH_SCHOOL',\n",
       "       'PERC_COLLEGE_GRADUATES', 'CODE', 'NB_INCIDENTS', 'NAME'],\n",
       "      dtype='object')"
      ]
     },
     "execution_count": 352,
     "metadata": {},
     "output_type": "execute_result"
    }
   ],
   "source": [
    "data.columns"
   ]
  },
  {
   "cell_type": "code",
   "execution_count": 353,
   "metadata": {
    "ExecuteTime": {
     "end_time": "2021-06-29T15:27:50.234884Z",
     "start_time": "2021-06-29T15:27:50.124537Z"
    },
    "tags": [
     "challengify"
    ]
   },
   "outputs": [
    {
     "data": {
      "text/html": [
       "<table class=\"simpletable\">\n",
       "<caption>OLS Regression Results</caption>\n",
       "<tr>\n",
       "  <th>Dep. Variable:</th>      <td>NB_INCIDENTS</td>   <th>  R-squared:         </th> <td>   0.899</td>\n",
       "</tr>\n",
       "<tr>\n",
       "  <th>Model:</th>                   <td>OLS</td>       <th>  Adj. R-squared:    </th> <td>   0.777</td>\n",
       "</tr>\n",
       "<tr>\n",
       "  <th>Method:</th>             <td>Least Squares</td>  <th>  F-statistic:       </th> <td>   7.391</td>\n",
       "</tr>\n",
       "<tr>\n",
       "  <th>Date:</th>             <td>Tue, 29 Jun 2021</td> <th>  Prob (F-statistic):</th>  <td>0.0222</td> \n",
       "</tr>\n",
       "<tr>\n",
       "  <th>Time:</th>                 <td>17:27:50</td>     <th>  Log-Likelihood:    </th> <td> -114.59</td>\n",
       "</tr>\n",
       "<tr>\n",
       "  <th>No. Observations:</th>      <td>    12</td>      <th>  AIC:               </th> <td>   243.2</td>\n",
       "</tr>\n",
       "<tr>\n",
       "  <th>Df Residuals:</th>          <td>     5</td>      <th>  BIC:               </th> <td>   246.6</td>\n",
       "</tr>\n",
       "<tr>\n",
       "  <th>Df Model:</th>              <td>     6</td>      <th>                     </th>     <td> </td>   \n",
       "</tr>\n",
       "<tr>\n",
       "  <th>Covariance Type:</th>      <td>nonrobust</td>    <th>                     </th>     <td> </td>   \n",
       "</tr>\n",
       "</table>\n",
       "<table class=\"simpletable\">\n",
       "<tr>\n",
       "               <td></td>                 <th>coef</th>     <th>std err</th>      <th>t</th>      <th>P>|t|</th>  <th>[0.025</th>    <th>0.975]</th>  \n",
       "</tr>\n",
       "<tr>\n",
       "  <th>Intercept</th>                  <td> 1.358e+04</td> <td> 6.16e+04</td> <td>    0.220</td> <td> 0.834</td> <td>-1.45e+05</td> <td> 1.72e+05</td>\n",
       "</tr>\n",
       "<tr>\n",
       "  <th>MEDIAN_AGE</th>                 <td> 2252.7344</td> <td> 1237.522</td> <td>    1.820</td> <td> 0.128</td> <td> -928.416</td> <td> 5433.885</td>\n",
       "</tr>\n",
       "<tr>\n",
       "  <th>PERC_OF_30_34</th>              <td> -532.9973</td> <td>  468.940</td> <td>   -1.137</td> <td> 0.307</td> <td>-1738.447</td> <td>  672.452</td>\n",
       "</tr>\n",
       "<tr>\n",
       "  <th>PERC_MARRIED_COUPLE_FAMILY</th> <td>-2115.1839</td> <td>  408.344</td> <td>   -5.180</td> <td> 0.004</td> <td>-3164.866</td> <td>-1065.502</td>\n",
       "</tr>\n",
       "<tr>\n",
       "  <th>PERC_OTHER_STATE_OR_ABROAD</th> <td> 1787.6939</td> <td>  532.432</td> <td>    3.358</td> <td> 0.020</td> <td>  419.034</td> <td> 3156.354</td>\n",
       "</tr>\n",
       "<tr>\n",
       "  <th>PERC_LESS_THAN_HIGH_SCHOOL</th> <td>  112.7375</td> <td>  493.977</td> <td>    0.228</td> <td> 0.829</td> <td>-1157.072</td> <td> 1382.547</td>\n",
       "</tr>\n",
       "<tr>\n",
       "  <th>PERC_COLLEGE_GRADUATES</th>     <td>   19.4699</td> <td>  458.775</td> <td>    0.042</td> <td> 0.968</td> <td>-1159.850</td> <td> 1198.790</td>\n",
       "</tr>\n",
       "</table>\n",
       "<table class=\"simpletable\">\n",
       "<tr>\n",
       "  <th>Omnibus:</th>       <td> 6.933</td> <th>  Durbin-Watson:     </th> <td>   2.255</td>\n",
       "</tr>\n",
       "<tr>\n",
       "  <th>Prob(Omnibus):</th> <td> 0.031</td> <th>  Jarque-Bera (JB):  </th> <td>   3.155</td>\n",
       "</tr>\n",
       "<tr>\n",
       "  <th>Skew:</th>          <td> 1.148</td> <th>  Prob(JB):          </th> <td>   0.206</td>\n",
       "</tr>\n",
       "<tr>\n",
       "  <th>Kurtosis:</th>      <td> 4.020</td> <th>  Cond. No.          </th> <td>2.42e+03</td>\n",
       "</tr>\n",
       "</table><br/><br/>Notes:<br/>[1] Standard Errors assume that the covariance matrix of the errors is correctly specified.<br/>[2] The condition number is large, 2.42e+03. This might indicate that there are<br/>strong multicollinearity or other numerical problems."
      ],
      "text/plain": [
       "<class 'statsmodels.iolib.summary.Summary'>\n",
       "\"\"\"\n",
       "                            OLS Regression Results                            \n",
       "==============================================================================\n",
       "Dep. Variable:           NB_INCIDENTS   R-squared:                       0.899\n",
       "Model:                            OLS   Adj. R-squared:                  0.777\n",
       "Method:                 Least Squares   F-statistic:                     7.391\n",
       "Date:                Tue, 29 Jun 2021   Prob (F-statistic):             0.0222\n",
       "Time:                        17:27:50   Log-Likelihood:                -114.59\n",
       "No. Observations:                  12   AIC:                             243.2\n",
       "Df Residuals:                       5   BIC:                             246.6\n",
       "Df Model:                           6                                         \n",
       "Covariance Type:            nonrobust                                         \n",
       "==============================================================================================\n",
       "                                 coef    std err          t      P>|t|      [0.025      0.975]\n",
       "----------------------------------------------------------------------------------------------\n",
       "Intercept                   1.358e+04   6.16e+04      0.220      0.834   -1.45e+05    1.72e+05\n",
       "MEDIAN_AGE                  2252.7344   1237.522      1.820      0.128    -928.416    5433.885\n",
       "PERC_OF_30_34               -532.9973    468.940     -1.137      0.307   -1738.447     672.452\n",
       "PERC_MARRIED_COUPLE_FAMILY -2115.1839    408.344     -5.180      0.004   -3164.866   -1065.502\n",
       "PERC_OTHER_STATE_OR_ABROAD  1787.6939    532.432      3.358      0.020     419.034    3156.354\n",
       "PERC_LESS_THAN_HIGH_SCHOOL   112.7375    493.977      0.228      0.829   -1157.072    1382.547\n",
       "PERC_COLLEGE_GRADUATES        19.4699    458.775      0.042      0.968   -1159.850    1198.790\n",
       "==============================================================================\n",
       "Omnibus:                        6.933   Durbin-Watson:                   2.255\n",
       "Prob(Omnibus):                  0.031   Jarque-Bera (JB):                3.155\n",
       "Skew:                           1.148   Prob(JB):                        0.206\n",
       "Kurtosis:                       4.020   Cond. No.                     2.42e+03\n",
       "==============================================================================\n",
       "\n",
       "Notes:\n",
       "[1] Standard Errors assume that the covariance matrix of the errors is correctly specified.\n",
       "[2] The condition number is large, 2.42e+03. This might indicate that there are\n",
       "strong multicollinearity or other numerical problems.\n",
       "\"\"\""
      ]
     },
     "execution_count": 353,
     "metadata": {},
     "output_type": "execute_result"
    }
   ],
   "source": [
    "# YOUR CODE HERE\n",
    "expr = '''\n",
    "NB_INCIDENTS ~ MEDIAN_AGE + PERC_OF_30_34 + PERC_MARRIED_COUPLE_FAMILY\n",
    "+ PERC_OTHER_STATE_OR_ABROAD + PERC_LESS_THAN_HIGH_SCHOOL + PERC_COLLEGE_GRADUATES '''\n",
    "\n",
    "model = smf.ols(formula=expr, data=data).fit()\n",
    "model.summary()"
   ]
  },
  {
   "cell_type": "code",
   "execution_count": 354,
   "metadata": {
    "ExecuteTime": {
     "end_time": "2021-06-29T15:27:54.227746Z",
     "start_time": "2021-06-29T15:27:54.216295Z"
    }
   },
   "outputs": [
    {
     "data": {
      "text/plain": [
       "Intercept                     13579.170110\n",
       "MEDIAN_AGE                     2252.734415\n",
       "PERC_OF_30_34                  -532.997340\n",
       "PERC_MARRIED_COUPLE_FAMILY    -2115.183942\n",
       "PERC_OTHER_STATE_OR_ABROAD     1787.693933\n",
       "PERC_LESS_THAN_HIGH_SCHOOL      112.737528\n",
       "PERC_COLLEGE_GRADUATES           19.469863\n",
       "dtype: float64"
      ]
     },
     "execution_count": 354,
     "metadata": {},
     "output_type": "execute_result"
    }
   ],
   "source": [
    "model.params"
   ]
  },
  {
   "cell_type": "markdown",
   "metadata": {},
   "source": [
    "### Save your results\n",
    "\n",
    "You can run the following cell to save your results:"
   ]
  },
  {
   "cell_type": "code",
   "execution_count": 355,
   "metadata": {
    "ExecuteTime": {
     "end_time": "2021-06-29T15:27:57.097015Z",
     "start_time": "2021-06-29T15:27:57.080362Z"
    }
   },
   "outputs": [],
   "source": [
    "ChallengeResult(\n",
    "    'linear_regression_model',\n",
    "    data=data,\n",
    "    model=model\n",
    ").write()"
   ]
  },
  {
   "cell_type": "markdown",
   "metadata": {},
   "source": [
    "### 1.4.3 Statistical inference questions 🤯"
   ]
  },
  {
   "cell_type": "markdown",
   "metadata": {},
   "source": [
    "You will now be asked a series of statistical inference and methodological questions about the regression model estimated above. Don't worry if results do not perfectly fit the \"predictions\" that we made earlier about the impact of each regressor: the goal was to form an *a priori* hypothesis, which is validated or invalidated through this empirical analysis."
   ]
  },
  {
   "cell_type": "markdown",
   "metadata": {},
   "source": [
    "#### Questions on the results"
   ]
  },
  {
   "cell_type": "markdown",
   "metadata": {},
   "source": [
    "**❓ Is the median age associated with a positive (increasing the number of crimes) or a negative (decreasing the target variable) effect on the number of crime incidents? Simply write your answer as a string below**"
   ]
  },
  {
   "cell_type": "code",
   "execution_count": 356,
   "metadata": {
    "ExecuteTime": {
     "end_time": "2021-06-29T15:27:59.961985Z",
     "start_time": "2021-06-29T15:27:59.958608Z"
    }
   },
   "outputs": [],
   "source": [
    "answer_median_age = '''\n",
    "Median age is associated with a positive so increasing the number of crimes\n",
    "'''"
   ]
  },
  {
   "cell_type": "markdown",
   "metadata": {},
   "source": [
    "**❓ What is the t-statistic associated with the median age regressor? How is it computed?**\n",
    "\n",
    "💡 Hint: We are looking at a ratio"
   ]
  },
  {
   "cell_type": "code",
   "execution_count": 2,
   "metadata": {
    "ExecuteTime": {
     "end_time": "2021-06-29T15:52:46.846204Z",
     "start_time": "2021-06-29T15:52:46.842428Z"
    }
   },
   "outputs": [],
   "source": [
    "answer_t_statistic = '''\n",
    "the t-statistic associated with the median age regressor it's 1.820\n",
    "\n",
    "it's computed by :\n",
    "Beta1 - b1/ std err(b1)\n",
    "if H0 will be true:\n",
    "2252,7344 / 1237.522 = 1.820\n",
    "'''"
   ]
  },
  {
   "cell_type": "markdown",
   "metadata": {},
   "source": [
    "**📝 Recompute approximately the t-statistic based on the regression summary.**\n",
    "\n",
    "As it is a ratio $t = \\frac{numerator}{denominator}$:\n",
    "- Store the numerator into a `numerator` variable\n",
    "- Store the denominator into a `denominator` variable\n",
    "- Store the t-statistic into a `t_median_age` variable"
   ]
  },
  {
   "cell_type": "code",
   "execution_count": 358,
   "metadata": {
    "ExecuteTime": {
     "end_time": "2021-06-29T15:28:04.857498Z",
     "start_time": "2021-06-29T15:28:04.845807Z"
    },
    "tags": [
     "challengify"
    ]
   },
   "outputs": [
    {
     "data": {
      "text/plain": [
       "1.8203590724043692"
      ]
     },
     "execution_count": 358,
     "metadata": {},
     "output_type": "execute_result"
    }
   ],
   "source": [
    "# YOUR CODE HERE\n",
    "numerator = 2252.7344\n",
    "denominator = 1237.522\n",
    "t_median_age = numerator/denominator\n",
    "t_median_age"
   ]
  },
  {
   "cell_type": "markdown",
   "metadata": {},
   "source": [
    "**❓ What is the p-value associated with the median age regressor? Store it in the `pvalue_median_age` variable (you may directly copy-paste it from the regression summary).** "
   ]
  },
  {
   "cell_type": "code",
   "execution_count": 359,
   "metadata": {
    "ExecuteTime": {
     "end_time": "2021-06-29T15:28:07.603604Z",
     "start_time": "2021-06-29T15:28:07.597946Z"
    },
    "tags": [
     "challengify"
    ]
   },
   "outputs": [],
   "source": [
    "# YOUR CODE HERE\n",
    "pvalue_median_age = 0.128"
   ]
  },
  {
   "cell_type": "markdown",
   "metadata": {},
   "source": [
    "**❓ What does this p-value mean for the median age? Is its effect statistically significant at the 95% confidence level? At the 90% confidence level? Simply formulate your answer in the cell below.**"
   ]
  },
  {
   "cell_type": "code",
   "execution_count": 360,
   "metadata": {
    "ExecuteTime": {
     "end_time": "2021-06-29T15:28:11.729806Z",
     "start_time": "2021-06-29T15:28:11.726735Z"
    }
   },
   "outputs": [],
   "source": [
    "answer_p_value = \"\"\"\n",
    "This P values means the median age IS NOT satistically significant at 90% confidence\n",
    "\"\"\""
   ]
  },
  {
   "cell_type": "markdown",
   "metadata": {},
   "source": [
    "**❓ What are the two regressors whose effect is statistically significant at the 95% confidence level in this regression model? Store the name of the variables as a list of strings in the `significant_regressors` variable.**"
   ]
  },
  {
   "cell_type": "code",
   "execution_count": 361,
   "metadata": {
    "ExecuteTime": {
     "end_time": "2021-06-29T15:28:14.359669Z",
     "start_time": "2021-06-29T15:28:14.352639Z"
    },
    "tags": [
     "challengify"
    ]
   },
   "outputs": [],
   "source": [
    "# YOUR CODE HERE\n",
    "significant_regressors = ['PERC_MARRIED_COUPLE_FAMILY','PERC_OTHER_STATE_OR_ABROAD']"
   ]
  },
  {
   "cell_type": "markdown",
   "metadata": {},
   "source": [
    "**❓ Holding all other regressors constant, by how much does the total number of incidents increase or decrease when the share of families with a married couple increases by 1 percentage point in the district? Please formulate a full sentence with statistical rigor!**"
   ]
  },
  {
   "cell_type": "code",
   "execution_count": 362,
   "metadata": {
    "ExecuteTime": {
     "end_time": "2021-06-29T15:28:18.991657Z",
     "start_time": "2021-06-29T15:28:18.985147Z"
    }
   },
   "outputs": [],
   "source": [
    "answer_how_much_increase = \"\"\"\n",
    "For each increase of 1 families with a married couple, number of indicents decrease on average by 2115.183942\"\n",
    "\"\"\""
   ]
  },
  {
   "cell_type": "markdown",
   "metadata": {},
   "source": [
    "#### Limits of this regression model"
   ]
  },
  {
   "cell_type": "markdown",
   "metadata": {},
   "source": [
    "You had asked the intern on the team to estimate a linear regression model so as to investigate the socio-economic determinants of crime in Boston. The results above are those that he presented. In the email he sent to you, he added:\n",
    "\n",
    "> *You will probably notice the extremely high R-squared score of this model: I think we have an excellent fit and the results are solid* 😄\n",
    "\n",
    "But you have very strong doubts about this regression and you think it is a perfect occasion to give some very important advice to your intern..."
   ]
  },
  {
   "cell_type": "markdown",
   "metadata": {},
   "source": [
    "**❓  What is the main limitation of this (clearly spurious) regression according to you? This observation explains why we are getting a very high R-squared and large standard errors. Please provide your answer in the following Markdown cell.**"
   ]
  },
  {
   "cell_type": "code",
   "execution_count": 363,
   "metadata": {
    "ExecuteTime": {
     "end_time": "2021-06-29T15:28:22.984314Z",
     "start_time": "2021-06-29T15:28:22.978067Z"
    }
   },
   "outputs": [],
   "source": [
    "answer_limitations = \"\"\"\n",
    "The main limitation of this regression accordting to me it's there are\n",
    "strong multicollinearity,\n",
    "causing an High R-squared score and large standard errors\n",
    "\"\"\""
   ]
  },
  {
   "cell_type": "markdown",
   "metadata": {},
   "source": [
    "### Save your results\n",
    "\n",
    "You can run the following cell to save your results:"
   ]
  },
  {
   "cell_type": "code",
   "execution_count": 364,
   "metadata": {
    "ExecuteTime": {
     "end_time": "2021-06-29T15:28:26.213393Z",
     "start_time": "2021-06-29T15:28:26.193842Z"
    }
   },
   "outputs": [],
   "source": [
    "import json\n",
    "answers_inference = {\"MEDIAN_AGE\": answer_median_age,\n",
    "                    \"T_STAT\":answer_t_statistic,\n",
    "                     \"P_VALUE\": answer_p_value,\n",
    "                     \"INCREASE\": answer_how_much_increase,\n",
    "                     \"LIMITATIONS\": answer_limitations}\n",
    "\n",
    "with open(\"tests/answers_inference.json\", \"w\", encoding=\"utf-8\") as f:\n",
    "    json.dump(answers_inference, f, ensure_ascii=False, indent=4)\n",
    "\n",
    "ChallengeResult(\n",
    "    'linear_regression_analysis',\n",
    "    model=model,\n",
    "    numerator=numerator,\n",
    "    denominator=denominator,\n",
    "    t=t_median_age,\n",
    "    pvalue=pvalue_median_age,\n",
    "    regressors=significant_regressors\n",
    ").write()"
   ]
  },
  {
   "cell_type": "markdown",
   "metadata": {},
   "source": [
    "# 2. Analysis for the police department"
   ]
  },
  {
   "cell_type": "markdown",
   "metadata": {},
   "source": [
    "The head of the Police Department of Boston, who read your report for the Mayor's team, was extremely interested in the results. He contacted your consulting firm for an additional presentation, that would focus on the nature of crimes that take place in Boston, the potential time trends that you could identify and/or the heterogeneity of the impact of criminality on the different police districts. "
   ]
  },
  {
   "cell_type": "markdown",
   "metadata": {},
   "source": [
    "## 2.1 Start with a fresh dataset"
   ]
  },
  {
   "cell_type": "markdown",
   "metadata": {},
   "source": [
    "You will start from a fresh dataset, that corresponds more or less to the `incident_reports` table of the database."
   ]
  },
  {
   "cell_type": "code",
   "execution_count": 47,
   "metadata": {
    "ExecuteTime": {
     "end_time": "2021-06-29T09:20:26.161520Z",
     "start_time": "2021-06-29T09:20:24.810663Z"
    }
   },
   "outputs": [
    {
     "name": "stdout",
     "output_type": "stream",
     "text": [
      "  % Total    % Received % Xferd  Average Speed   Time    Time     Time  Current\n",
      "                                 Dload  Upload   Total   Spent    Left  Speed\n",
      "100 19.1M  100 19.1M    0     0  22.8M      0 --:--:-- --:--:-- --:--:-- 22.8M\n",
      "  % Total    % Received % Xferd  Average Speed   Time    Time     Time  Current\n",
      "                                 Dload  Upload   Total   Spent    Left  Speed\n",
      "100   498  100   498    0     0   3233      0 --:--:-- --:--:-- --:--:--  3233\n"
     ]
    }
   ],
   "source": [
    "# Run this cell to download the datasets in the data directory\n",
    "!curl https://wagon-public-datasets.s3.amazonaws.com/certification_france_2021_q2/incident_reports.csv > data/incident_reports.csv   \n",
    "!curl https://wagon-public-datasets.s3.amazonaws.com/certification_france_2021_q2/districts.csv > data/districts.csv    "
   ]
  },
  {
   "cell_type": "code",
   "execution_count": 365,
   "metadata": {
    "ExecuteTime": {
     "end_time": "2021-06-29T15:28:34.767937Z",
     "start_time": "2021-06-29T15:28:33.837292Z"
    }
   },
   "outputs": [
    {
     "name": "stdout",
     "output_type": "stream",
     "text": [
      "Shape of the DataFrame: (237221, 9)\n"
     ]
    },
    {
     "data": {
      "text/html": [
       "<div>\n",
       "<style scoped>\n",
       "    .dataframe tbody tr th:only-of-type {\n",
       "        vertical-align: middle;\n",
       "    }\n",
       "\n",
       "    .dataframe tbody tr th {\n",
       "        vertical-align: top;\n",
       "    }\n",
       "\n",
       "    .dataframe thead th {\n",
       "        text-align: right;\n",
       "    }\n",
       "</style>\n",
       "<table border=\"1\" class=\"dataframe\">\n",
       "  <thead>\n",
       "    <tr style=\"text-align: right;\">\n",
       "      <th></th>\n",
       "      <th>INCIDENT_NUMBER</th>\n",
       "      <th>OFFENSE_CODE_GROUP</th>\n",
       "      <th>SHOOTING</th>\n",
       "      <th>OCCURRED_ON_DATE</th>\n",
       "      <th>LAT</th>\n",
       "      <th>LONG</th>\n",
       "      <th>NAME</th>\n",
       "      <th>LAT_POLICE_STATION</th>\n",
       "      <th>LONG_POLICE_STATION</th>\n",
       "    </tr>\n",
       "  </thead>\n",
       "  <tbody>\n",
       "    <tr>\n",
       "      <th>0</th>\n",
       "      <td>I192068249</td>\n",
       "      <td>Other</td>\n",
       "      <td>0</td>\n",
       "      <td>2015-08-28 10:20:00</td>\n",
       "      <td>42.330119</td>\n",
       "      <td>-71.084251</td>\n",
       "      <td>Roxbury</td>\n",
       "      <td>42.328894</td>\n",
       "      <td>-71.085359</td>\n",
       "    </tr>\n",
       "    <tr>\n",
       "      <th>1</th>\n",
       "      <td>I182074094</td>\n",
       "      <td>Violence and harassment</td>\n",
       "      <td>0</td>\n",
       "      <td>2015-09-14 09:31:00</td>\n",
       "      <td>42.315142</td>\n",
       "      <td>-71.067047</td>\n",
       "      <td>Roxbury</td>\n",
       "      <td>42.328894</td>\n",
       "      <td>-71.085359</td>\n",
       "    </tr>\n",
       "    <tr>\n",
       "      <th>2</th>\n",
       "      <td>I182054888</td>\n",
       "      <td>Violence and harassment</td>\n",
       "      <td>0</td>\n",
       "      <td>2015-07-12 15:37:00</td>\n",
       "      <td>42.312243</td>\n",
       "      <td>-71.075499</td>\n",
       "      <td>Roxbury</td>\n",
       "      <td>42.328894</td>\n",
       "      <td>-71.085359</td>\n",
       "    </tr>\n",
       "    <tr>\n",
       "      <th>3</th>\n",
       "      <td>I182054888</td>\n",
       "      <td>Other</td>\n",
       "      <td>0</td>\n",
       "      <td>2015-07-12 15:37:00</td>\n",
       "      <td>42.312243</td>\n",
       "      <td>-71.075499</td>\n",
       "      <td>Roxbury</td>\n",
       "      <td>42.328894</td>\n",
       "      <td>-71.085359</td>\n",
       "    </tr>\n",
       "    <tr>\n",
       "      <th>4</th>\n",
       "      <td>I182054888</td>\n",
       "      <td>Other</td>\n",
       "      <td>0</td>\n",
       "      <td>2015-07-12 15:37:00</td>\n",
       "      <td>42.312243</td>\n",
       "      <td>-71.075499</td>\n",
       "      <td>Roxbury</td>\n",
       "      <td>42.328894</td>\n",
       "      <td>-71.085359</td>\n",
       "    </tr>\n",
       "  </tbody>\n",
       "</table>\n",
       "</div>"
      ],
      "text/plain": [
       "  INCIDENT_NUMBER       OFFENSE_CODE_GROUP  SHOOTING     OCCURRED_ON_DATE  \\\n",
       "0      I192068249                    Other         0  2015-08-28 10:20:00   \n",
       "1      I182074094  Violence and harassment         0  2015-09-14 09:31:00   \n",
       "2      I182054888  Violence and harassment         0  2015-07-12 15:37:00   \n",
       "3      I182054888                    Other         0  2015-07-12 15:37:00   \n",
       "4      I182054888                    Other         0  2015-07-12 15:37:00   \n",
       "\n",
       "         LAT       LONG     NAME  LAT_POLICE_STATION  LONG_POLICE_STATION  \n",
       "0  42.330119 -71.084251  Roxbury           42.328894           -71.085359  \n",
       "1  42.315142 -71.067047  Roxbury           42.328894           -71.085359  \n",
       "2  42.312243 -71.075499  Roxbury           42.328894           -71.085359  \n",
       "3  42.312243 -71.075499  Roxbury           42.328894           -71.085359  \n",
       "4  42.312243 -71.075499  Roxbury           42.328894           -71.085359  "
      ]
     },
     "execution_count": 365,
     "metadata": {},
     "output_type": "execute_result"
    }
   ],
   "source": [
    "# Load the dataset\n",
    "from data import load_data_viz_data\n",
    "\n",
    "data = load_data_viz_data()\n",
    "data[['LAT','LONG']] = data[['LAT','LONG']].astype('float64')\n",
    "\n",
    "print(\"Shape of the DataFrame:\", data.shape)\n",
    "\n",
    "data.head()"
   ]
  },
  {
   "cell_type": "markdown",
   "metadata": {},
   "source": [
    "## 2.1 Further data manipulations"
   ]
  },
  {
   "cell_type": "markdown",
   "metadata": {},
   "source": [
    "In this section, we are going to answer two specific questions that the head of the Police Department of Boston asked your team, about the characteristics of the incidents that occur in the various districts of the municipality."
   ]
  },
  {
   "cell_type": "markdown",
   "metadata": {},
   "source": [
    "### 2.1.1 Most represented type of incident per district"
   ]
  },
  {
   "cell_type": "markdown",
   "metadata": {},
   "source": [
    "First, the head of the Police Department of Boston wants to know what incident category is most often found in each district. \n",
    "\n",
    "**📝 Construct a DataFrame with**\n",
    "- **one row per police district, designated by its full name**\n",
    "- **one text column that indicates the name of the most common category of incident in the district over the whole sample period.**\n",
    "\n",
    "💡 Hint: you may need to first define a custom aggregation function."
   ]
  },
  {
   "cell_type": "code",
   "execution_count": 366,
   "metadata": {
    "ExecuteTime": {
     "end_time": "2021-06-29T15:28:38.908087Z",
     "start_time": "2021-06-29T15:28:38.823778Z"
    },
    "tags": [
     "challengify"
    ]
   },
   "outputs": [
    {
     "data": {
      "text/html": [
       "<div>\n",
       "<style scoped>\n",
       "    .dataframe tbody tr th:only-of-type {\n",
       "        vertical-align: middle;\n",
       "    }\n",
       "\n",
       "    .dataframe tbody tr th {\n",
       "        vertical-align: top;\n",
       "    }\n",
       "\n",
       "    .dataframe thead th {\n",
       "        text-align: right;\n",
       "    }\n",
       "</style>\n",
       "<table border=\"1\" class=\"dataframe\">\n",
       "  <thead>\n",
       "    <tr style=\"text-align: right;\">\n",
       "      <th></th>\n",
       "      <th>OFFENSE_CODE_GROUP</th>\n",
       "    </tr>\n",
       "    <tr>\n",
       "      <th>NAME</th>\n",
       "      <th></th>\n",
       "    </tr>\n",
       "  </thead>\n",
       "  <tbody>\n",
       "    <tr>\n",
       "      <th>Brighton</th>\n",
       "      <td>Larceny and vandalism</td>\n",
       "    </tr>\n",
       "    <tr>\n",
       "      <th>Charlestown</th>\n",
       "      <td>Larceny and vandalism</td>\n",
       "    </tr>\n",
       "    <tr>\n",
       "      <th>Dorchester</th>\n",
       "      <td>Larceny and vandalism</td>\n",
       "    </tr>\n",
       "    <tr>\n",
       "      <th>Downtown</th>\n",
       "      <td>Larceny and vandalism</td>\n",
       "    </tr>\n",
       "    <tr>\n",
       "      <th>East Boston</th>\n",
       "      <td>Larceny and vandalism</td>\n",
       "    </tr>\n",
       "    <tr>\n",
       "      <th>Hyde Park</th>\n",
       "      <td>Larceny and vandalism</td>\n",
       "    </tr>\n",
       "    <tr>\n",
       "      <th>Jamaica Plain</th>\n",
       "      <td>Larceny and vandalism</td>\n",
       "    </tr>\n",
       "    <tr>\n",
       "      <th>Mattapan</th>\n",
       "      <td>Police investigation procedure</td>\n",
       "    </tr>\n",
       "    <tr>\n",
       "      <th>Roxbury</th>\n",
       "      <td>Larceny and vandalism</td>\n",
       "    </tr>\n",
       "    <tr>\n",
       "      <th>South Boston</th>\n",
       "      <td>Larceny and vandalism</td>\n",
       "    </tr>\n",
       "    <tr>\n",
       "      <th>South End</th>\n",
       "      <td>Larceny and vandalism</td>\n",
       "    </tr>\n",
       "    <tr>\n",
       "      <th>West Roxbury</th>\n",
       "      <td>Larceny and vandalism</td>\n",
       "    </tr>\n",
       "  </tbody>\n",
       "</table>\n",
       "</div>"
      ],
      "text/plain": [
       "                           OFFENSE_CODE_GROUP\n",
       "NAME                                         \n",
       "Brighton                Larceny and vandalism\n",
       "Charlestown             Larceny and vandalism\n",
       "Dorchester              Larceny and vandalism\n",
       "Downtown                Larceny and vandalism\n",
       "East Boston             Larceny and vandalism\n",
       "Hyde Park               Larceny and vandalism\n",
       "Jamaica Plain           Larceny and vandalism\n",
       "Mattapan       Police investigation procedure\n",
       "Roxbury                 Larceny and vandalism\n",
       "South Boston            Larceny and vandalism\n",
       "South End               Larceny and vandalism\n",
       "West Roxbury            Larceny and vandalism"
      ]
     },
     "execution_count": 366,
     "metadata": {},
     "output_type": "execute_result"
    }
   ],
   "source": [
    "# YOUR CODE HERE\n",
    "most_incident_df = data.groupby(['NAME'])['OFFENSE_CODE_GROUP'].agg(pd.Series.mode).to_frame()\n",
    "most_incident_df"
   ]
  },
  {
   "cell_type": "markdown",
   "metadata": {},
   "source": [
    "**❓ Can you tell what is the second most common offense int the Brighton district?**"
   ]
  },
  {
   "cell_type": "code",
   "execution_count": 367,
   "metadata": {
    "ExecuteTime": {
     "end_time": "2021-06-29T15:28:50.098012Z",
     "start_time": "2021-06-29T15:28:50.007851Z"
    }
   },
   "outputs": [
    {
     "data": {
      "text/html": [
       "<div>\n",
       "<style scoped>\n",
       "    .dataframe tbody tr th:only-of-type {\n",
       "        vertical-align: middle;\n",
       "    }\n",
       "\n",
       "    .dataframe tbody tr th {\n",
       "        vertical-align: top;\n",
       "    }\n",
       "\n",
       "    .dataframe thead th {\n",
       "        text-align: right;\n",
       "    }\n",
       "</style>\n",
       "<table border=\"1\" class=\"dataframe\">\n",
       "  <thead>\n",
       "    <tr style=\"text-align: right;\">\n",
       "      <th></th>\n",
       "      <th></th>\n",
       "      <th>OFFENSE_CODE_GROUP</th>\n",
       "    </tr>\n",
       "    <tr>\n",
       "      <th>NAME</th>\n",
       "      <th>OFFENSE_CODE_GROUP</th>\n",
       "      <th></th>\n",
       "    </tr>\n",
       "  </thead>\n",
       "  <tbody>\n",
       "    <tr>\n",
       "      <th rowspan=\"5\" valign=\"top\">Brighton</th>\n",
       "      <th>Larceny and vandalism</th>\n",
       "      <td>5274</td>\n",
       "    </tr>\n",
       "    <tr>\n",
       "      <th>Police investigation procedure</th>\n",
       "      <td>2783</td>\n",
       "    </tr>\n",
       "    <tr>\n",
       "      <th>Fraud and law violations</th>\n",
       "      <td>1807</td>\n",
       "    </tr>\n",
       "    <tr>\n",
       "      <th>Violence and harassment</th>\n",
       "      <td>1627</td>\n",
       "    </tr>\n",
       "    <tr>\n",
       "      <th>Other</th>\n",
       "      <td>925</td>\n",
       "    </tr>\n",
       "    <tr>\n",
       "      <th>...</th>\n",
       "      <th>...</th>\n",
       "      <td>...</td>\n",
       "    </tr>\n",
       "    <tr>\n",
       "      <th rowspan=\"5\" valign=\"top\">West Roxbury</th>\n",
       "      <th>Fraud and law violations</th>\n",
       "      <td>1168</td>\n",
       "    </tr>\n",
       "    <tr>\n",
       "      <th>Violence and harassment</th>\n",
       "      <td>1089</td>\n",
       "    </tr>\n",
       "    <tr>\n",
       "      <th>Other</th>\n",
       "      <td>880</td>\n",
       "    </tr>\n",
       "    <tr>\n",
       "      <th>Drugs and disorderly conduct</th>\n",
       "      <td>721</td>\n",
       "    </tr>\n",
       "    <tr>\n",
       "      <th>Disputes</th>\n",
       "      <td>597</td>\n",
       "    </tr>\n",
       "  </tbody>\n",
       "</table>\n",
       "<p>84 rows × 1 columns</p>\n",
       "</div>"
      ],
      "text/plain": [
       "                                             OFFENSE_CODE_GROUP\n",
       "NAME         OFFENSE_CODE_GROUP                                \n",
       "Brighton     Larceny and vandalism                         5274\n",
       "             Police investigation procedure                2783\n",
       "             Fraud and law violations                      1807\n",
       "             Violence and harassment                       1627\n",
       "             Other                                          925\n",
       "...                                                         ...\n",
       "West Roxbury Fraud and law violations                      1168\n",
       "             Violence and harassment                       1089\n",
       "             Other                                          880\n",
       "             Drugs and disorderly conduct                   721\n",
       "             Disputes                                       597\n",
       "\n",
       "[84 rows x 1 columns]"
      ]
     },
     "execution_count": 367,
     "metadata": {},
     "output_type": "execute_result"
    }
   ],
   "source": [
    "data.groupby(['NAME'])['OFFENSE_CODE_GROUP'].value_counts().to_frame()"
   ]
  },
  {
   "cell_type": "code",
   "execution_count": 368,
   "metadata": {
    "ExecuteTime": {
     "end_time": "2021-06-29T15:28:55.062905Z",
     "start_time": "2021-06-29T15:28:55.059918Z"
    }
   },
   "outputs": [],
   "source": [
    "second_most_common_offence = \"Police investigation procedure\""
   ]
  },
  {
   "cell_type": "markdown",
   "metadata": {},
   "source": [
    "### Average distance to the police station per district"
   ]
  },
  {
   "cell_type": "markdown",
   "metadata": {},
   "source": [
    "Second, based on the Haversine distance function defined below, the head of the Police Department would like to know, for each district, **the average distance between the location of the incident and the police station**. \n",
    "\n",
    "**📝 Construct a DataFrame with one row per police district, designated by its full name, and one column that displays this average Haversine distance.**"
   ]
  },
  {
   "cell_type": "code",
   "execution_count": 369,
   "metadata": {
    "ExecuteTime": {
     "end_time": "2021-06-29T15:28:57.930777Z",
     "start_time": "2021-06-29T15:28:57.912954Z"
    }
   },
   "outputs": [],
   "source": [
    "# Haversine distance function\n",
    "from math import radians, sin, cos, asin, sqrt\n",
    "\n",
    "def haversine_distance(lon1, lat1, lon2, lat2):\n",
    "    \"\"\"\n",
    "    Compute distance (km) between two pairs of (lat, lng) coordinates\n",
    "    See - (https://en.wikipedia.org/wiki/Haversine_formula)\n",
    "    \"\"\"\n",
    "    \n",
    "    lon1, lat1, lon2, lat2 = map(radians, [lon1, lat1, lon2, lat2])\n",
    "    dlon = lon2 - lon1\n",
    "    dlat = lat2 - lat1\n",
    "    \n",
    "    a = sin(dlat / 2) ** 2 + cos(lat1) * cos(lat2) * sin(dlon / 2) ** 2\n",
    "    \n",
    "    return 2 * 6371 * asin(sqrt(a))"
   ]
  },
  {
   "cell_type": "code",
   "execution_count": 370,
   "metadata": {
    "ExecuteTime": {
     "end_time": "2021-06-29T15:29:04.682336Z",
     "start_time": "2021-06-29T15:29:00.262206Z"
    },
    "tags": [
     "challengify"
    ]
   },
   "outputs": [
    {
     "data": {
      "text/html": [
       "<div>\n",
       "<style scoped>\n",
       "    .dataframe tbody tr th:only-of-type {\n",
       "        vertical-align: middle;\n",
       "    }\n",
       "\n",
       "    .dataframe tbody tr th {\n",
       "        vertical-align: top;\n",
       "    }\n",
       "\n",
       "    .dataframe thead th {\n",
       "        text-align: right;\n",
       "    }\n",
       "</style>\n",
       "<table border=\"1\" class=\"dataframe\">\n",
       "  <thead>\n",
       "    <tr style=\"text-align: right;\">\n",
       "      <th></th>\n",
       "      <th>INCIDENT_NUMBER</th>\n",
       "      <th>OFFENSE_CODE_GROUP</th>\n",
       "      <th>SHOOTING</th>\n",
       "      <th>OCCURRED_ON_DATE</th>\n",
       "      <th>LAT</th>\n",
       "      <th>LONG</th>\n",
       "      <th>NAME</th>\n",
       "      <th>LAT_POLICE_STATION</th>\n",
       "      <th>LONG_POLICE_STATION</th>\n",
       "      <th>haversine_distance</th>\n",
       "    </tr>\n",
       "  </thead>\n",
       "  <tbody>\n",
       "    <tr>\n",
       "      <th>0</th>\n",
       "      <td>I192068249</td>\n",
       "      <td>Other</td>\n",
       "      <td>0</td>\n",
       "      <td>2015-08-28 10:20:00</td>\n",
       "      <td>42.330119</td>\n",
       "      <td>-71.084251</td>\n",
       "      <td>Roxbury</td>\n",
       "      <td>42.328894</td>\n",
       "      <td>-71.085359</td>\n",
       "      <td>0.163832</td>\n",
       "    </tr>\n",
       "    <tr>\n",
       "      <th>1</th>\n",
       "      <td>I182074094</td>\n",
       "      <td>Violence and harassment</td>\n",
       "      <td>0</td>\n",
       "      <td>2015-09-14 09:31:00</td>\n",
       "      <td>42.315142</td>\n",
       "      <td>-71.067047</td>\n",
       "      <td>Roxbury</td>\n",
       "      <td>42.328894</td>\n",
       "      <td>-71.085359</td>\n",
       "      <td>2.145919</td>\n",
       "    </tr>\n",
       "    <tr>\n",
       "      <th>2</th>\n",
       "      <td>I182054888</td>\n",
       "      <td>Violence and harassment</td>\n",
       "      <td>0</td>\n",
       "      <td>2015-07-12 15:37:00</td>\n",
       "      <td>42.312243</td>\n",
       "      <td>-71.075499</td>\n",
       "      <td>Roxbury</td>\n",
       "      <td>42.328894</td>\n",
       "      <td>-71.085359</td>\n",
       "      <td>2.021175</td>\n",
       "    </tr>\n",
       "    <tr>\n",
       "      <th>3</th>\n",
       "      <td>I182054888</td>\n",
       "      <td>Other</td>\n",
       "      <td>0</td>\n",
       "      <td>2015-07-12 15:37:00</td>\n",
       "      <td>42.312243</td>\n",
       "      <td>-71.075499</td>\n",
       "      <td>Roxbury</td>\n",
       "      <td>42.328894</td>\n",
       "      <td>-71.085359</td>\n",
       "      <td>2.021175</td>\n",
       "    </tr>\n",
       "    <tr>\n",
       "      <th>4</th>\n",
       "      <td>I182054888</td>\n",
       "      <td>Other</td>\n",
       "      <td>0</td>\n",
       "      <td>2015-07-12 15:37:00</td>\n",
       "      <td>42.312243</td>\n",
       "      <td>-71.075499</td>\n",
       "      <td>Roxbury</td>\n",
       "      <td>42.328894</td>\n",
       "      <td>-71.085359</td>\n",
       "      <td>2.021175</td>\n",
       "    </tr>\n",
       "    <tr>\n",
       "      <th>...</th>\n",
       "      <td>...</td>\n",
       "      <td>...</td>\n",
       "      <td>...</td>\n",
       "      <td>...</td>\n",
       "      <td>...</td>\n",
       "      <td>...</td>\n",
       "      <td>...</td>\n",
       "      <td>...</td>\n",
       "      <td>...</td>\n",
       "      <td>...</td>\n",
       "    </tr>\n",
       "    <tr>\n",
       "      <th>237216</th>\n",
       "      <td>I172049757</td>\n",
       "      <td>Police investigation procedure</td>\n",
       "      <td>0</td>\n",
       "      <td>2018-08-09 18:00:00</td>\n",
       "      <td>42.355216</td>\n",
       "      <td>-71.060129</td>\n",
       "      <td>Charlestown</td>\n",
       "      <td>42.361800</td>\n",
       "      <td>-71.060300</td>\n",
       "      <td>0.732215</td>\n",
       "    </tr>\n",
       "    <tr>\n",
       "      <th>237217</th>\n",
       "      <td>I172049757</td>\n",
       "      <td>Drugs and disorderly conduct</td>\n",
       "      <td>0</td>\n",
       "      <td>2018-08-09 18:00:00</td>\n",
       "      <td>42.355216</td>\n",
       "      <td>-71.060129</td>\n",
       "      <td>Charlestown</td>\n",
       "      <td>42.361800</td>\n",
       "      <td>-71.060300</td>\n",
       "      <td>0.732215</td>\n",
       "    </tr>\n",
       "    <tr>\n",
       "      <th>237218</th>\n",
       "      <td>I172027369</td>\n",
       "      <td>Other</td>\n",
       "      <td>0</td>\n",
       "      <td>2018-12-12 05:00:00</td>\n",
       "      <td>42.376852</td>\n",
       "      <td>-71.068873</td>\n",
       "      <td>Charlestown</td>\n",
       "      <td>42.361800</td>\n",
       "      <td>-71.060300</td>\n",
       "      <td>1.815839</td>\n",
       "    </tr>\n",
       "    <tr>\n",
       "      <th>237219</th>\n",
       "      <td>I172027369</td>\n",
       "      <td>Police investigation procedure</td>\n",
       "      <td>0</td>\n",
       "      <td>2018-12-12 05:00:00</td>\n",
       "      <td>42.376852</td>\n",
       "      <td>-71.068873</td>\n",
       "      <td>Charlestown</td>\n",
       "      <td>42.361800</td>\n",
       "      <td>-71.060300</td>\n",
       "      <td>1.815839</td>\n",
       "    </tr>\n",
       "    <tr>\n",
       "      <th>237220</th>\n",
       "      <td>I172027369</td>\n",
       "      <td>Violence and harassment</td>\n",
       "      <td>0</td>\n",
       "      <td>2018-12-12 05:00:00</td>\n",
       "      <td>42.376852</td>\n",
       "      <td>-71.068873</td>\n",
       "      <td>Charlestown</td>\n",
       "      <td>42.361800</td>\n",
       "      <td>-71.060300</td>\n",
       "      <td>1.815839</td>\n",
       "    </tr>\n",
       "  </tbody>\n",
       "</table>\n",
       "<p>237221 rows × 10 columns</p>\n",
       "</div>"
      ],
      "text/plain": [
       "       INCIDENT_NUMBER              OFFENSE_CODE_GROUP  SHOOTING  \\\n",
       "0           I192068249                           Other         0   \n",
       "1           I182074094         Violence and harassment         0   \n",
       "2           I182054888         Violence and harassment         0   \n",
       "3           I182054888                           Other         0   \n",
       "4           I182054888                           Other         0   \n",
       "...                ...                             ...       ...   \n",
       "237216      I172049757  Police investigation procedure         0   \n",
       "237217      I172049757    Drugs and disorderly conduct         0   \n",
       "237218      I172027369                           Other         0   \n",
       "237219      I172027369  Police investigation procedure         0   \n",
       "237220      I172027369         Violence and harassment         0   \n",
       "\n",
       "           OCCURRED_ON_DATE        LAT       LONG         NAME  \\\n",
       "0       2015-08-28 10:20:00  42.330119 -71.084251      Roxbury   \n",
       "1       2015-09-14 09:31:00  42.315142 -71.067047      Roxbury   \n",
       "2       2015-07-12 15:37:00  42.312243 -71.075499      Roxbury   \n",
       "3       2015-07-12 15:37:00  42.312243 -71.075499      Roxbury   \n",
       "4       2015-07-12 15:37:00  42.312243 -71.075499      Roxbury   \n",
       "...                     ...        ...        ...          ...   \n",
       "237216  2018-08-09 18:00:00  42.355216 -71.060129  Charlestown   \n",
       "237217  2018-08-09 18:00:00  42.355216 -71.060129  Charlestown   \n",
       "237218  2018-12-12 05:00:00  42.376852 -71.068873  Charlestown   \n",
       "237219  2018-12-12 05:00:00  42.376852 -71.068873  Charlestown   \n",
       "237220  2018-12-12 05:00:00  42.376852 -71.068873  Charlestown   \n",
       "\n",
       "        LAT_POLICE_STATION  LONG_POLICE_STATION  haversine_distance  \n",
       "0                42.328894           -71.085359            0.163832  \n",
       "1                42.328894           -71.085359            2.145919  \n",
       "2                42.328894           -71.085359            2.021175  \n",
       "3                42.328894           -71.085359            2.021175  \n",
       "4                42.328894           -71.085359            2.021175  \n",
       "...                    ...                  ...                 ...  \n",
       "237216           42.361800           -71.060300            0.732215  \n",
       "237217           42.361800           -71.060300            0.732215  \n",
       "237218           42.361800           -71.060300            1.815839  \n",
       "237219           42.361800           -71.060300            1.815839  \n",
       "237220           42.361800           -71.060300            1.815839  \n",
       "\n",
       "[237221 rows x 10 columns]"
      ]
     },
     "execution_count": 370,
     "metadata": {},
     "output_type": "execute_result"
    }
   ],
   "source": [
    "# YOUR CODE HERE\n",
    "data['haversine_distance']=data.apply(lambda row: haversine_distance(lon1=row['LONG'], lat1=row['LAT'],\\\n",
    "                                                                       lon2=row['LONG_POLICE_STATION'],\\\n",
    "                                                                       lat2=row['LAT_POLICE_STATION']),axis=1)\n",
    "data"
   ]
  },
  {
   "cell_type": "code",
   "execution_count": 371,
   "metadata": {
    "ExecuteTime": {
     "end_time": "2021-06-29T15:29:13.839529Z",
     "start_time": "2021-06-29T15:29:13.766900Z"
    },
    "scrolled": false,
    "tags": [
     "challengify"
    ]
   },
   "outputs": [
    {
     "data": {
      "text/html": [
       "<div>\n",
       "<style scoped>\n",
       "    .dataframe tbody tr th:only-of-type {\n",
       "        vertical-align: middle;\n",
       "    }\n",
       "\n",
       "    .dataframe tbody tr th {\n",
       "        vertical-align: top;\n",
       "    }\n",
       "\n",
       "    .dataframe thead th {\n",
       "        text-align: right;\n",
       "    }\n",
       "</style>\n",
       "<table border=\"1\" class=\"dataframe\">\n",
       "  <thead>\n",
       "    <tr style=\"text-align: right;\">\n",
       "      <th></th>\n",
       "      <th>SHOOTING</th>\n",
       "      <th>LAT</th>\n",
       "      <th>LONG</th>\n",
       "      <th>LAT_POLICE_STATION</th>\n",
       "      <th>LONG_POLICE_STATION</th>\n",
       "      <th>haversine_distance</th>\n",
       "    </tr>\n",
       "    <tr>\n",
       "      <th>NAME</th>\n",
       "      <th></th>\n",
       "      <th></th>\n",
       "      <th></th>\n",
       "      <th></th>\n",
       "      <th></th>\n",
       "      <th></th>\n",
       "    </tr>\n",
       "  </thead>\n",
       "  <tbody>\n",
       "    <tr>\n",
       "      <th>Brighton</th>\n",
       "      <td>0.001741</td>\n",
       "      <td>42.337940</td>\n",
       "      <td>-71.121492</td>\n",
       "      <td>42.349300</td>\n",
       "      <td>-71.150600</td>\n",
       "      <td>3.770867</td>\n",
       "    </tr>\n",
       "    <tr>\n",
       "      <th>Charlestown</th>\n",
       "      <td>0.001049</td>\n",
       "      <td>42.083411</td>\n",
       "      <td>-70.591929</td>\n",
       "      <td>42.361800</td>\n",
       "      <td>-71.060300</td>\n",
       "      <td>58.758394</td>\n",
       "    </tr>\n",
       "    <tr>\n",
       "      <th>Dorchester</th>\n",
       "      <td>0.007270</td>\n",
       "      <td>42.291887</td>\n",
       "      <td>-71.048714</td>\n",
       "      <td>42.298068</td>\n",
       "      <td>-71.059141</td>\n",
       "      <td>3.174444</td>\n",
       "    </tr>\n",
       "    <tr>\n",
       "      <th>Downtown</th>\n",
       "      <td>0.000724</td>\n",
       "      <td>42.328492</td>\n",
       "      <td>-71.015711</td>\n",
       "      <td>42.361800</td>\n",
       "      <td>-71.060300</td>\n",
       "      <td>6.336657</td>\n",
       "    </tr>\n",
       "    <tr>\n",
       "      <th>East Boston</th>\n",
       "      <td>0.002373</td>\n",
       "      <td>42.354856</td>\n",
       "      <td>-70.994902</td>\n",
       "      <td>42.371200</td>\n",
       "      <td>-71.038700</td>\n",
       "      <td>5.568626</td>\n",
       "    </tr>\n",
       "    <tr>\n",
       "      <th>Hyde Park</th>\n",
       "      <td>0.003187</td>\n",
       "      <td>42.260016</td>\n",
       "      <td>-71.113105</td>\n",
       "      <td>42.256476</td>\n",
       "      <td>-71.124279</td>\n",
       "      <td>2.397613</td>\n",
       "    </tr>\n",
       "    <tr>\n",
       "      <th>Jamaica Plain</th>\n",
       "      <td>0.006718</td>\n",
       "      <td>42.308171</td>\n",
       "      <td>-71.094808</td>\n",
       "      <td>42.309700</td>\n",
       "      <td>-71.104600</td>\n",
       "      <td>2.585737</td>\n",
       "    </tr>\n",
       "    <tr>\n",
       "      <th>Mattapan</th>\n",
       "      <td>0.010483</td>\n",
       "      <td>42.284378</td>\n",
       "      <td>-71.080442</td>\n",
       "      <td>42.284800</td>\n",
       "      <td>-71.091600</td>\n",
       "      <td>1.908636</td>\n",
       "    </tr>\n",
       "    <tr>\n",
       "      <th>Roxbury</th>\n",
       "      <td>0.012527</td>\n",
       "      <td>42.313967</td>\n",
       "      <td>-71.071864</td>\n",
       "      <td>42.328894</td>\n",
       "      <td>-71.085359</td>\n",
       "      <td>2.989029</td>\n",
       "    </tr>\n",
       "    <tr>\n",
       "      <th>South Boston</th>\n",
       "      <td>0.002828</td>\n",
       "      <td>42.179793</td>\n",
       "      <td>-70.804208</td>\n",
       "      <td>42.341200</td>\n",
       "      <td>-71.054900</td>\n",
       "      <td>31.454220</td>\n",
       "    </tr>\n",
       "    <tr>\n",
       "      <th>South End</th>\n",
       "      <td>0.002175</td>\n",
       "      <td>42.340828</td>\n",
       "      <td>-71.076481</td>\n",
       "      <td>42.339629</td>\n",
       "      <td>-71.069161</td>\n",
       "      <td>1.862039</td>\n",
       "    </tr>\n",
       "    <tr>\n",
       "      <th>West Roxbury</th>\n",
       "      <td>0.002126</td>\n",
       "      <td>42.200008</td>\n",
       "      <td>-71.005088</td>\n",
       "      <td>42.286800</td>\n",
       "      <td>-71.148400</td>\n",
       "      <td>18.370045</td>\n",
       "    </tr>\n",
       "  </tbody>\n",
       "</table>\n",
       "</div>"
      ],
      "text/plain": [
       "               SHOOTING        LAT       LONG  LAT_POLICE_STATION  \\\n",
       "NAME                                                                \n",
       "Brighton       0.001741  42.337940 -71.121492           42.349300   \n",
       "Charlestown    0.001049  42.083411 -70.591929           42.361800   \n",
       "Dorchester     0.007270  42.291887 -71.048714           42.298068   \n",
       "Downtown       0.000724  42.328492 -71.015711           42.361800   \n",
       "East Boston    0.002373  42.354856 -70.994902           42.371200   \n",
       "Hyde Park      0.003187  42.260016 -71.113105           42.256476   \n",
       "Jamaica Plain  0.006718  42.308171 -71.094808           42.309700   \n",
       "Mattapan       0.010483  42.284378 -71.080442           42.284800   \n",
       "Roxbury        0.012527  42.313967 -71.071864           42.328894   \n",
       "South Boston   0.002828  42.179793 -70.804208           42.341200   \n",
       "South End      0.002175  42.340828 -71.076481           42.339629   \n",
       "West Roxbury   0.002126  42.200008 -71.005088           42.286800   \n",
       "\n",
       "               LONG_POLICE_STATION  haversine_distance  \n",
       "NAME                                                    \n",
       "Brighton                -71.150600            3.770867  \n",
       "Charlestown             -71.060300           58.758394  \n",
       "Dorchester              -71.059141            3.174444  \n",
       "Downtown                -71.060300            6.336657  \n",
       "East Boston             -71.038700            5.568626  \n",
       "Hyde Park               -71.124279            2.397613  \n",
       "Jamaica Plain           -71.104600            2.585737  \n",
       "Mattapan                -71.091600            1.908636  \n",
       "Roxbury                 -71.085359            2.989029  \n",
       "South Boston            -71.054900           31.454220  \n",
       "South End               -71.069161            1.862039  \n",
       "West Roxbury            -71.148400           18.370045  "
      ]
     },
     "execution_count": 371,
     "metadata": {},
     "output_type": "execute_result"
    }
   ],
   "source": [
    "# YOUR CODE HERE\n",
    "data.groupby('NAME').mean()"
   ]
  },
  {
   "cell_type": "markdown",
   "metadata": {},
   "source": [
    "**❓ Can you tell what is the average distance between the police station and the offenses in the Brighton district?**"
   ]
  },
  {
   "cell_type": "code",
   "execution_count": 372,
   "metadata": {
    "ExecuteTime": {
     "end_time": "2021-06-29T15:29:21.229997Z",
     "start_time": "2021-06-29T15:29:21.225907Z"
    },
    "tags": [
     "challengify"
    ]
   },
   "outputs": [],
   "source": [
    "# YOUR CODE HERE\n",
    "average_distance_km = 3.770867"
   ]
  },
  {
   "cell_type": "code",
   "execution_count": 373,
   "metadata": {
    "ExecuteTime": {
     "end_time": "2021-06-29T15:29:23.751275Z",
     "start_time": "2021-06-29T15:29:23.744034Z"
    }
   },
   "outputs": [],
   "source": [
    "result = ChallengeResult('manipulation',\n",
    "                         second_most_common_offence=second_most_common_offence,\n",
    "                         average_distance_km=average_distance_km)\n",
    "result.write()"
   ]
  },
  {
   "cell_type": "markdown",
   "metadata": {},
   "source": [
    "# 3. Short presentation (REQUIRED TO VALIDATE THE CERTIFICATION)\n",
    "🚨🚨🚨🚨🚨🚨"
   ]
  },
  {
   "cell_type": "markdown",
   "metadata": {},
   "source": [
    "Using the latest dataset that you loaded, your mission is now to prepare 5 slides (including a title slide) that you would present to the head of the Police Department. You may or may not, as you prefer, include the output of the two \"Further data manipulations\" tasks in your presentation.\n",
    "\n",
    "⚠️  You can use any presentation editor of your choice, but **the slides must be shared either in HTML or in PDF format and saved in the current directory**"
   ]
  },
  {
   "cell_type": "markdown",
   "metadata": {},
   "source": [
    "Before you get started, here are four small pieces of advice:\n",
    "\n",
    "- to prepare your data visualisations, do not hesitate to create a separate, blank notebook; \n",
    "\n",
    "\n",
    "- pay particular attention to the readability and the clarity of your legends, titles, charts and tables; \n",
    "\n",
    "\n",
    "- the Pandas `resample` method might be useful if you want to plot time trends;\n",
    "\n",
    "\n",
    "- keep in mind that you are working with real data and sometimes, data are not very talkative. Do not feel discouraged if your charts do not provide revolutionary insights: typically, an absence of trend is a substantial piece of information!"
   ]
  },
  {
   "cell_type": "markdown",
   "metadata": {},
   "source": [
    "Good luck in changing Boston residents' lives!"
   ]
  },
  {
   "cell_type": "markdown",
   "metadata": {},
   "source": [
    "# A word of conclusion"
   ]
  },
  {
   "cell_type": "markdown",
   "metadata": {},
   "source": [
    "Congratulations for going through the exercise 🎉\n",
    "\n",
    "If you wish to pursue your analysis at some point, note that all datasets (and many others) are publicly available online, on the [Analyze Boston](https://data.boston.gov) website.\n",
    "\n",
    "Besides, if you are interested in the topic, you can start by reading the work of Nobel Prize laureate Gary Becker, who was the first to model crime as a rational phenomenon, similarly to an economic decision. This model, although it has limitations, marked a breakthrough in the study of crime and paved the way for many empirical studies that further analysed the socio-economic determinants of illegal activities. \n",
    "\n",
    "👉 [Link](https://olis.leg.state.or.us/liz/2017R1/Downloads/CommitteeMeetingDocument/125036) to download a full-text version of \"Crime and Punishment: An Economic Approach\" by Becker (1968)"
   ]
  }
 ],
 "metadata": {
  "kernelspec": {
   "display_name": "Python 3",
   "language": "python",
   "name": "python3"
  },
  "language_info": {
   "codemirror_mode": {
    "name": "ipython",
    "version": 3
   },
   "file_extension": ".py",
   "mimetype": "text/x-python",
   "name": "python",
   "nbconvert_exporter": "python",
   "pygments_lexer": "ipython3",
   "version": "3.8.6"
  },
  "toc": {
   "base_numbering": 1,
   "nav_menu": {},
   "number_sections": false,
   "sideBar": true,
   "skip_h1_title": false,
   "title_cell": "Table of Contents",
   "title_sidebar": "Contents",
   "toc_cell": false,
   "toc_position": {
    "height": "calc(100% - 180px)",
    "left": "10px",
    "top": "150px",
    "width": "288px"
   },
   "toc_section_display": true,
   "toc_window_display": true
  }
 },
 "nbformat": 4,
 "nbformat_minor": 4
}
